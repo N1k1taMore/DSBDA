{
 "cells": [
  {
   "cell_type": "code",
   "execution_count": 1,
   "id": "9a2b9cbe-8718-4211-aea2-10168957bb68",
   "metadata": {},
   "outputs": [],
   "source": [
    "#import libraries\n",
    "import numpy as np\n",
    "import pandas as pd\n",
    "import matplotlib.pyplot as plt"
   ]
  },
  {
   "cell_type": "code",
   "execution_count": 2,
   "id": "be30fa06-5cac-4bf2-9376-e0f9c47dd7c4",
   "metadata": {},
   "outputs": [],
   "source": [
    "#load dataset\n",
    "df = pd.read_csv(\"student.csv\")"
   ]
  },
  {
   "cell_type": "code",
   "execution_count": 3,
   "id": "bcde81c7-c897-4cf6-a58e-cfc640ef85a8",
   "metadata": {},
   "outputs": [
    {
     "data": {
      "text/html": [
       "<div>\n",
       "<style scoped>\n",
       "    .dataframe tbody tr th:only-of-type {\n",
       "        vertical-align: middle;\n",
       "    }\n",
       "\n",
       "    .dataframe tbody tr th {\n",
       "        vertical-align: top;\n",
       "    }\n",
       "\n",
       "    .dataframe thead th {\n",
       "        text-align: right;\n",
       "    }\n",
       "</style>\n",
       "<table border=\"1\" class=\"dataframe\">\n",
       "  <thead>\n",
       "    <tr style=\"text-align: right;\">\n",
       "      <th></th>\n",
       "      <th>Unnamed: 0</th>\n",
       "      <th>Id</th>\n",
       "      <th>Student_Age</th>\n",
       "      <th>Sex</th>\n",
       "      <th>High_School_Type</th>\n",
       "      <th>Scholarship</th>\n",
       "      <th>Additional_Work</th>\n",
       "      <th>Sports_activity</th>\n",
       "      <th>Transportation</th>\n",
       "      <th>Weekly_Study_Hours</th>\n",
       "      <th>Attendance</th>\n",
       "      <th>Reading</th>\n",
       "      <th>Notes</th>\n",
       "      <th>Listening_in_Class</th>\n",
       "      <th>Project_work</th>\n",
       "      <th>Grade</th>\n",
       "    </tr>\n",
       "  </thead>\n",
       "  <tbody>\n",
       "    <tr>\n",
       "      <th>0</th>\n",
       "      <td>0</td>\n",
       "      <td>5001</td>\n",
       "      <td>21.0</td>\n",
       "      <td>Male</td>\n",
       "      <td>Other</td>\n",
       "      <td>50%</td>\n",
       "      <td>Yes</td>\n",
       "      <td>No</td>\n",
       "      <td>Private</td>\n",
       "      <td>0</td>\n",
       "      <td>Always</td>\n",
       "      <td>Yes</td>\n",
       "      <td>Yes</td>\n",
       "      <td>No</td>\n",
       "      <td>No</td>\n",
       "      <td>AA</td>\n",
       "    </tr>\n",
       "    <tr>\n",
       "      <th>1</th>\n",
       "      <td>1</td>\n",
       "      <td>5002</td>\n",
       "      <td>NaN</td>\n",
       "      <td>Male</td>\n",
       "      <td>Other</td>\n",
       "      <td>50%</td>\n",
       "      <td>Yes</td>\n",
       "      <td>No</td>\n",
       "      <td>Private</td>\n",
       "      <td>0</td>\n",
       "      <td>Always</td>\n",
       "      <td>Yes</td>\n",
       "      <td>No</td>\n",
       "      <td>Yes</td>\n",
       "      <td>Yes</td>\n",
       "      <td>AA</td>\n",
       "    </tr>\n",
       "    <tr>\n",
       "      <th>2</th>\n",
       "      <td>2</td>\n",
       "      <td>5003</td>\n",
       "      <td>NaN</td>\n",
       "      <td>Male</td>\n",
       "      <td>State</td>\n",
       "      <td>50%</td>\n",
       "      <td>No</td>\n",
       "      <td>No</td>\n",
       "      <td>Private</td>\n",
       "      <td>2</td>\n",
       "      <td>Never</td>\n",
       "      <td>No</td>\n",
       "      <td>No</td>\n",
       "      <td>No</td>\n",
       "      <td>Yes</td>\n",
       "      <td>AA</td>\n",
       "    </tr>\n",
       "    <tr>\n",
       "      <th>3</th>\n",
       "      <td>3</td>\n",
       "      <td>5004</td>\n",
       "      <td>18.0</td>\n",
       "      <td>Female</td>\n",
       "      <td>Private</td>\n",
       "      <td>50%</td>\n",
       "      <td>Yes</td>\n",
       "      <td>No</td>\n",
       "      <td>Bus</td>\n",
       "      <td>2</td>\n",
       "      <td>Always</td>\n",
       "      <td>No</td>\n",
       "      <td>Yes</td>\n",
       "      <td>No</td>\n",
       "      <td>No</td>\n",
       "      <td>AA</td>\n",
       "    </tr>\n",
       "    <tr>\n",
       "      <th>4</th>\n",
       "      <td>4</td>\n",
       "      <td>5005</td>\n",
       "      <td>22.0</td>\n",
       "      <td>Male</td>\n",
       "      <td>Private</td>\n",
       "      <td>50%</td>\n",
       "      <td>No</td>\n",
       "      <td>No</td>\n",
       "      <td>Bus</td>\n",
       "      <td>12</td>\n",
       "      <td>Always</td>\n",
       "      <td>Yes</td>\n",
       "      <td>No</td>\n",
       "      <td>Yes</td>\n",
       "      <td>Yes</td>\n",
       "      <td>AA</td>\n",
       "    </tr>\n",
       "    <tr>\n",
       "      <th>...</th>\n",
       "      <td>...</td>\n",
       "      <td>...</td>\n",
       "      <td>...</td>\n",
       "      <td>...</td>\n",
       "      <td>...</td>\n",
       "      <td>...</td>\n",
       "      <td>...</td>\n",
       "      <td>...</td>\n",
       "      <td>...</td>\n",
       "      <td>...</td>\n",
       "      <td>...</td>\n",
       "      <td>...</td>\n",
       "      <td>...</td>\n",
       "      <td>...</td>\n",
       "      <td>...</td>\n",
       "      <td>...</td>\n",
       "    </tr>\n",
       "    <tr>\n",
       "      <th>140</th>\n",
       "      <td>140</td>\n",
       "      <td>5141</td>\n",
       "      <td>22.0</td>\n",
       "      <td>Female</td>\n",
       "      <td>State</td>\n",
       "      <td>50%</td>\n",
       "      <td>Yes</td>\n",
       "      <td>Yes</td>\n",
       "      <td>Private</td>\n",
       "      <td>2</td>\n",
       "      <td>Always</td>\n",
       "      <td>No</td>\n",
       "      <td>Yes</td>\n",
       "      <td>No</td>\n",
       "      <td>Yes</td>\n",
       "      <td>CC</td>\n",
       "    </tr>\n",
       "    <tr>\n",
       "      <th>141</th>\n",
       "      <td>141</td>\n",
       "      <td>5142</td>\n",
       "      <td>18.0</td>\n",
       "      <td>Female</td>\n",
       "      <td>State</td>\n",
       "      <td>NaN</td>\n",
       "      <td>No</td>\n",
       "      <td>No</td>\n",
       "      <td>Private</td>\n",
       "      <td>2</td>\n",
       "      <td>Never</td>\n",
       "      <td>No</td>\n",
       "      <td>Yes</td>\n",
       "      <td>Yes</td>\n",
       "      <td>No</td>\n",
       "      <td>CC</td>\n",
       "    </tr>\n",
       "    <tr>\n",
       "      <th>142</th>\n",
       "      <td>142</td>\n",
       "      <td>5143</td>\n",
       "      <td>18.0</td>\n",
       "      <td>Female</td>\n",
       "      <td>Private</td>\n",
       "      <td>75%</td>\n",
       "      <td>No</td>\n",
       "      <td>No</td>\n",
       "      <td>Private</td>\n",
       "      <td>2</td>\n",
       "      <td>Always</td>\n",
       "      <td>Yes</td>\n",
       "      <td>No</td>\n",
       "      <td>No</td>\n",
       "      <td>No</td>\n",
       "      <td>AA</td>\n",
       "    </tr>\n",
       "    <tr>\n",
       "      <th>143</th>\n",
       "      <td>143</td>\n",
       "      <td>5144</td>\n",
       "      <td>22.0</td>\n",
       "      <td>Female</td>\n",
       "      <td>State</td>\n",
       "      <td>NaN</td>\n",
       "      <td>Yes</td>\n",
       "      <td>Yes</td>\n",
       "      <td>Bus</td>\n",
       "      <td>12</td>\n",
       "      <td>Sometimes</td>\n",
       "      <td>No</td>\n",
       "      <td>Yes</td>\n",
       "      <td>No</td>\n",
       "      <td>NaN</td>\n",
       "      <td>CB</td>\n",
       "    </tr>\n",
       "    <tr>\n",
       "      <th>144</th>\n",
       "      <td>144</td>\n",
       "      <td>5145</td>\n",
       "      <td>18.0</td>\n",
       "      <td>Female</td>\n",
       "      <td>Private</td>\n",
       "      <td>NaN</td>\n",
       "      <td>No</td>\n",
       "      <td>No</td>\n",
       "      <td>Private</td>\n",
       "      <td>12</td>\n",
       "      <td>Always</td>\n",
       "      <td>Yes</td>\n",
       "      <td>No</td>\n",
       "      <td>Yes</td>\n",
       "      <td>No</td>\n",
       "      <td>BB</td>\n",
       "    </tr>\n",
       "  </tbody>\n",
       "</table>\n",
       "<p>145 rows × 16 columns</p>\n",
       "</div>"
      ],
      "text/plain": [
       "     Unnamed: 0    Id  Student_Age     Sex High_School_Type Scholarship  \\\n",
       "0             0  5001         21.0    Male            Other         50%   \n",
       "1             1  5002          NaN    Male            Other         50%   \n",
       "2             2  5003          NaN    Male            State         50%   \n",
       "3             3  5004         18.0  Female          Private         50%   \n",
       "4             4  5005         22.0    Male          Private         50%   \n",
       "..          ...   ...          ...     ...              ...         ...   \n",
       "140         140  5141         22.0  Female            State         50%   \n",
       "141         141  5142         18.0  Female            State         NaN   \n",
       "142         142  5143         18.0  Female          Private         75%   \n",
       "143         143  5144         22.0  Female            State         NaN   \n",
       "144         144  5145         18.0  Female          Private         NaN   \n",
       "\n",
       "    Additional_Work Sports_activity Transportation  Weekly_Study_Hours  \\\n",
       "0               Yes              No        Private                   0   \n",
       "1               Yes              No        Private                   0   \n",
       "2                No              No        Private                   2   \n",
       "3               Yes              No            Bus                   2   \n",
       "4                No              No            Bus                  12   \n",
       "..              ...             ...            ...                 ...   \n",
       "140             Yes             Yes        Private                   2   \n",
       "141              No              No        Private                   2   \n",
       "142              No              No        Private                   2   \n",
       "143             Yes             Yes            Bus                  12   \n",
       "144              No              No        Private                  12   \n",
       "\n",
       "    Attendance Reading Notes Listening_in_Class Project_work Grade  \n",
       "0       Always     Yes   Yes                 No           No    AA  \n",
       "1       Always     Yes    No                Yes          Yes    AA  \n",
       "2        Never      No    No                 No          Yes    AA  \n",
       "3       Always      No   Yes                 No           No    AA  \n",
       "4       Always     Yes    No                Yes          Yes    AA  \n",
       "..         ...     ...   ...                ...          ...   ...  \n",
       "140     Always      No   Yes                 No          Yes    CC  \n",
       "141      Never      No   Yes                Yes           No    CC  \n",
       "142     Always     Yes    No                 No           No    AA  \n",
       "143  Sometimes      No   Yes                 No          NaN    CB  \n",
       "144     Always     Yes    No                Yes           No    BB  \n",
       "\n",
       "[145 rows x 16 columns]"
      ]
     },
     "execution_count": 3,
     "metadata": {},
     "output_type": "execute_result"
    }
   ],
   "source": [
    "#display dataframe\n",
    "df"
   ]
  },
  {
   "cell_type": "code",
   "execution_count": 5,
   "id": "619d6c3a-5c14-45ad-84c6-e58570299925",
   "metadata": {},
   "outputs": [
    {
     "data": {
      "text/plain": [
       "(145, 16)"
      ]
     },
     "execution_count": 5,
     "metadata": {},
     "output_type": "execute_result"
    }
   ],
   "source": [
    "#shows rows ans columns count\n",
    "df.shape"
   ]
  },
  {
   "cell_type": "code",
   "execution_count": 6,
   "id": "34f751af-b5cf-4b7d-8f25-ca39a15178f2",
   "metadata": {},
   "outputs": [
    {
     "data": {
      "text/plain": [
       "2"
      ]
     },
     "execution_count": 6,
     "metadata": {},
     "output_type": "execute_result"
    }
   ],
   "source": [
    "# shows dimensions\n",
    "df.ndim"
   ]
  },
  {
   "cell_type": "code",
   "execution_count": 7,
   "id": "4a32b59e-7166-46e9-8d74-8410a862c1b7",
   "metadata": {},
   "outputs": [
    {
     "name": "stdout",
     "output_type": "stream",
     "text": [
      "<class 'pandas.core.frame.DataFrame'>\n",
      "RangeIndex: 145 entries, 0 to 144\n",
      "Data columns (total 16 columns):\n",
      " #   Column              Non-Null Count  Dtype  \n",
      "---  ------              --------------  -----  \n",
      " 0   Unnamed: 0          145 non-null    int64  \n",
      " 1   Id                  145 non-null    int64  \n",
      " 2   Student_Age         129 non-null    float64\n",
      " 3   Sex                 145 non-null    object \n",
      " 4   High_School_Type    145 non-null    object \n",
      " 5   Scholarship         135 non-null    object \n",
      " 6   Additional_Work     145 non-null    object \n",
      " 7   Sports_activity     145 non-null    object \n",
      " 8   Transportation      139 non-null    object \n",
      " 9   Weekly_Study_Hours  145 non-null    int64  \n",
      " 10  Attendance          145 non-null    object \n",
      " 11  Reading             145 non-null    object \n",
      " 12  Notes               145 non-null    object \n",
      " 13  Listening_in_Class  145 non-null    object \n",
      " 14  Project_work        139 non-null    object \n",
      " 15  Grade               145 non-null    object \n",
      "dtypes: float64(1), int64(3), object(12)\n",
      "memory usage: 18.3+ KB\n"
     ]
    }
   ],
   "source": [
    "#displays information about the dataframe, including the number of rows and columns, \n",
    "#the data types of the columns, the number of non-null values in each column, \n",
    "#and the amount of memory used by the dataframe.\n",
    "\n",
    "df.info()"
   ]
  },
  {
   "cell_type": "code",
   "execution_count": 8,
   "id": "79858ab0-9356-46ca-ade8-19ac17fb25fd",
   "metadata": {},
   "outputs": [
    {
     "data": {
      "text/html": [
       "<div>\n",
       "<style scoped>\n",
       "    .dataframe tbody tr th:only-of-type {\n",
       "        vertical-align: middle;\n",
       "    }\n",
       "\n",
       "    .dataframe tbody tr th {\n",
       "        vertical-align: top;\n",
       "    }\n",
       "\n",
       "    .dataframe thead th {\n",
       "        text-align: right;\n",
       "    }\n",
       "</style>\n",
       "<table border=\"1\" class=\"dataframe\">\n",
       "  <thead>\n",
       "    <tr style=\"text-align: right;\">\n",
       "      <th></th>\n",
       "      <th>Unnamed: 0</th>\n",
       "      <th>Id</th>\n",
       "      <th>Student_Age</th>\n",
       "      <th>Weekly_Study_Hours</th>\n",
       "    </tr>\n",
       "  </thead>\n",
       "  <tbody>\n",
       "    <tr>\n",
       "      <th>count</th>\n",
       "      <td>145.000000</td>\n",
       "      <td>145.000000</td>\n",
       "      <td>129.000000</td>\n",
       "      <td>145.000000</td>\n",
       "    </tr>\n",
       "    <tr>\n",
       "      <th>mean</th>\n",
       "      <td>72.000000</td>\n",
       "      <td>5073.000000</td>\n",
       "      <td>19.604651</td>\n",
       "      <td>3.965517</td>\n",
       "    </tr>\n",
       "    <tr>\n",
       "      <th>std</th>\n",
       "      <td>42.001984</td>\n",
       "      <td>42.001984</td>\n",
       "      <td>1.950235</td>\n",
       "      <td>5.355960</td>\n",
       "    </tr>\n",
       "    <tr>\n",
       "      <th>min</th>\n",
       "      <td>0.000000</td>\n",
       "      <td>5001.000000</td>\n",
       "      <td>18.000000</td>\n",
       "      <td>0.000000</td>\n",
       "    </tr>\n",
       "    <tr>\n",
       "      <th>25%</th>\n",
       "      <td>36.000000</td>\n",
       "      <td>5037.000000</td>\n",
       "      <td>18.000000</td>\n",
       "      <td>0.000000</td>\n",
       "    </tr>\n",
       "    <tr>\n",
       "      <th>50%</th>\n",
       "      <td>72.000000</td>\n",
       "      <td>5073.000000</td>\n",
       "      <td>19.000000</td>\n",
       "      <td>2.000000</td>\n",
       "    </tr>\n",
       "    <tr>\n",
       "      <th>75%</th>\n",
       "      <td>108.000000</td>\n",
       "      <td>5109.000000</td>\n",
       "      <td>21.000000</td>\n",
       "      <td>7.000000</td>\n",
       "    </tr>\n",
       "    <tr>\n",
       "      <th>max</th>\n",
       "      <td>144.000000</td>\n",
       "      <td>5145.000000</td>\n",
       "      <td>26.000000</td>\n",
       "      <td>28.000000</td>\n",
       "    </tr>\n",
       "  </tbody>\n",
       "</table>\n",
       "</div>"
      ],
      "text/plain": [
       "       Unnamed: 0           Id  Student_Age  Weekly_Study_Hours\n",
       "count  145.000000   145.000000   129.000000          145.000000\n",
       "mean    72.000000  5073.000000    19.604651            3.965517\n",
       "std     42.001984    42.001984     1.950235            5.355960\n",
       "min      0.000000  5001.000000    18.000000            0.000000\n",
       "25%     36.000000  5037.000000    18.000000            0.000000\n",
       "50%     72.000000  5073.000000    19.000000            2.000000\n",
       "75%    108.000000  5109.000000    21.000000            7.000000\n",
       "max    144.000000  5145.000000    26.000000           28.000000"
      ]
     },
     "execution_count": 8,
     "metadata": {},
     "output_type": "execute_result"
    }
   ],
   "source": [
    "#returns description of the data in the DataFrame excluding null values.\n",
    "df.describe()"
   ]
  },
  {
   "cell_type": "code",
   "execution_count": 9,
   "id": "22fa7f00-bdea-4745-85df-73c29b10ce8e",
   "metadata": {},
   "outputs": [
    {
     "data": {
      "text/plain": [
       "Unnamed: 0              int64\n",
       "Id                      int64\n",
       "Student_Age           float64\n",
       "Sex                    object\n",
       "High_School_Type       object\n",
       "Scholarship            object\n",
       "Additional_Work        object\n",
       "Sports_activity        object\n",
       "Transportation         object\n",
       "Weekly_Study_Hours      int64\n",
       "Attendance             object\n",
       "Reading                object\n",
       "Notes                  object\n",
       "Listening_in_Class     object\n",
       "Project_work           object\n",
       "Grade                  object\n",
       "dtype: object"
      ]
     },
     "execution_count": 9,
     "metadata": {},
     "output_type": "execute_result"
    }
   ],
   "source": [
    "#gives datatype of each column\n",
    "df.dtypes"
   ]
  },
  {
   "cell_type": "code",
   "execution_count": 10,
   "id": "057d68c2-f1f4-40d7-950f-ac1b0c6fc7fb",
   "metadata": {},
   "outputs": [
    {
     "data": {
      "text/plain": [
       "Unnamed: 0             0\n",
       "Id                     0\n",
       "Student_Age           16\n",
       "Sex                    0\n",
       "High_School_Type       0\n",
       "Scholarship           10\n",
       "Additional_Work        0\n",
       "Sports_activity        0\n",
       "Transportation         6\n",
       "Weekly_Study_Hours     0\n",
       "Attendance             0\n",
       "Reading                0\n",
       "Notes                  0\n",
       "Listening_in_Class     0\n",
       "Project_work           6\n",
       "Grade                  0\n",
       "dtype: int64"
      ]
     },
     "execution_count": 10,
     "metadata": {},
     "output_type": "execute_result"
    }
   ],
   "source": [
    "#Missing values\n",
    "df.isnull().sum()"
   ]
  },
  {
   "cell_type": "code",
   "execution_count": 32,
   "id": "a0bc9988-f4bf-4188-90ca-d735d8b174a7",
   "metadata": {},
   "outputs": [
    {
     "name": "stderr",
     "output_type": "stream",
     "text": [
      "C:\\Users\\moren\\AppData\\Local\\Temp\\ipykernel_4724\\3961488764.py:8: FutureWarning: A value is trying to be set on a copy of a DataFrame or Series through chained assignment using an inplace method.\n",
      "The behavior will change in pandas 3.0. This inplace method will never work because the intermediate object on which we are setting values always behaves as a copy.\n",
      "\n",
      "For example, when doing 'df[col].method(value, inplace=True)', try using 'df.method({col: value}, inplace=True)' or df[col] = df[col].method(value) instead, to perform the operation inplace on the original object.\n",
      "\n",
      "\n",
      "  df['Student_Age'].fillna(df['Student_Age'].mean(), inplace=True)\n"
     ]
    }
   ],
   "source": [
    "#handling missing values\n",
    "#replacing nan with mean,mode,median,0,dropping row,column,etc\n",
    "#mode() returns a Series (a type of pandas DataFrame), not a single value. \n",
    "#This is because there can technically be multiple modes in a dataset. By indexing with [0], you are selecting the first mode in the dataset.\n",
    "df['Scholarship'].fillna(df['Scholarship'].mode()[0], inplace=True)\n",
    "df['Transportation'].fillna('Unknown', inplace=True)\n",
    "df['Project_work'].fillna(0, inplace=True)\n",
    "df['Student_Age'].fillna(df['Student_Age'].mean(), inplace=True)"
   ]
  },
  {
   "cell_type": "code",
   "execution_count": 33,
   "id": "854498f0-6ebb-4848-b395-7e7592853e07",
   "metadata": {},
   "outputs": [
    {
     "data": {
      "text/plain": [
       "Unnamed: 0            0\n",
       "Id                    0\n",
       "Student_Age           0\n",
       "Sex                   0\n",
       "High_School_Type      0\n",
       "Scholarship           0\n",
       "Additional_Work       0\n",
       "Sports_activity       0\n",
       "Transportation        0\n",
       "Weekly_Study_Hours    0\n",
       "Attendance            0\n",
       "Reading               0\n",
       "Notes                 0\n",
       "Listening_in_Class    0\n",
       "Project_work          0\n",
       "Grade                 0\n",
       "dtype: int64"
      ]
     },
     "execution_count": 33,
     "metadata": {},
     "output_type": "execute_result"
    }
   ],
   "source": [
    "df.isnull().sum()"
   ]
  },
  {
   "cell_type": "code",
   "execution_count": 46,
   "id": "53a51c8b-1151-4da0-907c-c99c92df7957",
   "metadata": {},
   "outputs": [
    {
     "name": "stdout",
     "output_type": "stream",
     "text": [
      "Number of outliers in each numerical column:\n",
      "Unnamed: 0            0\n",
      "Id                    0\n",
      "Student_Age           1\n",
      "Weekly_Study_Hours    4\n",
      "dtype: int64\n"
     ]
    }
   ],
   "source": [
    "# Outliers are data points that significantly differ from other observations in a dataset. \n",
    "# They are observations that lie far away from the rest of the data, \n",
    "# either on the higher or lower end of the distribution.\n",
    "\n",
    "#detection of outliers using IQR\n",
    "\n",
    "def count_out(column):\n",
    "    Q1=column.quantile(0.25)\n",
    "    Q3=column.quantile(0.75)\n",
    "    IQR=Q3-Q1\n",
    "    lower_bound = Q1 - 1.5*IQR\n",
    "    upper_bound = Q3 + 1.5*IQR\n",
    "\n",
    "    outliers=(column<lower_bound) | (column > upper_bound)\n",
    "    return outliers.sum()\n",
    "\n",
    "# Create a dataframe with only numerical columns\n",
    "\n",
    "num_df = df.select_dtypes(include =[np.number])\n",
    "\n",
    "#Count ouliers for each column\n",
    "\n",
    "out_count=num_df.apply(count_out)\n",
    "\n",
    "# Display the count of outliers for each column\n",
    "\n",
    "print(\"Number of outliers in each numerical column:\")\n",
    "print(out_count)"
   ]
  },
  {
   "cell_type": "code",
   "execution_count": 35,
   "id": "ee697524-82fb-4405-8dc9-bc831e957122",
   "metadata": {},
   "outputs": [
    {
     "data": {
      "text/plain": [
       "count    145.000000\n",
       "mean       3.965517\n",
       "std        5.355960\n",
       "min        0.000000\n",
       "25%        0.000000\n",
       "50%        2.000000\n",
       "75%        7.000000\n",
       "max       28.000000\n",
       "Name: Weekly_Study_Hours, dtype: float64"
      ]
     },
     "execution_count": 35,
     "metadata": {},
     "output_type": "execute_result"
    }
   ],
   "source": [
    "df['Weekly_Study_Hours'].describe()"
   ]
  },
  {
   "cell_type": "code",
   "execution_count": 44,
   "id": "e3ddcea5-be31-410b-9bc9-b98595d2af4f",
   "metadata": {},
   "outputs": [
    {
     "data": {
      "image/png": "[encoded data removed]",
      "text/plain": [
       "<Figure size 800x600 with 1 Axes>"
      ]
     },
     "metadata": {},
     "output_type": "display_data"
    }
   ],
   "source": [
    "#VISUALIZATION OF OUTLIERS\n",
    "\n",
    "import seaborn as sns\n",
    "\n",
    "plt.figure(figsize = (8,6))\n",
    "sns.boxplot(x=df['Student_Age'])\n",
    "plt.title('Boxplot of Student_Age Hours with Outliers')\n",
    "plt.xlabel('Student_Age')\n",
    "plt.show()"
   ]
  },
  {
   "cell_type": "code",
   "execution_count": 47,
   "id": "46e92250-2cd1-448e-bd5a-7dd66ab620d7",
   "metadata": {},
   "outputs": [
    {
     "data": {
      "image/png": "[encoded data removed]",
      "text/plain": [
       "<Figure size 800x600 with 1 Axes>"
      ]
     },
     "metadata": {},
     "output_type": "display_data"
    }
   ],
   "source": [
    "plt.figure(figsize = (8,6))\n",
    "sns.boxplot(x=df['Weekly_Study_Hours'])\n",
    "plt.title('Boxplot of Weekly_Study_Hours with Outliers')\n",
    "plt.xlabel('Weekly_Study_Hours')\n",
    "plt.show()"
   ]
  },
  {
   "cell_type": "code",
   "execution_count": 48,
   "id": "210e5c7b-6e11-4470-bfc1-13b254c147cc",
   "metadata": {},
   "outputs": [
    {
     "data": {
      "text/plain": [
       "(145, 16)"
      ]
     },
     "execution_count": 48,
     "metadata": {},
     "output_type": "execute_result"
    }
   ],
   "source": [
    "# DEALING WITH OR HANDLLING OUTLIERS\n",
    "# CAPPING- replacing outliers with lower or upper bound values\n",
    "# np.where(...): This is a function from the numpy library that acts like an if-else statement.\n",
    "# It takes three arguments: a condition,a value to return if the condition is true, \n",
    "# and a value to return if the condition is false.\n",
    "\n",
    "\n",
    "new_df_cap = df.copy()\n",
    "new_df_cap['Weekly_Study_Hours'] = np.where(\n",
    "    new_df_cap['Weekly_Study_Hours'] > df['Weekly_Study_Hours'].quantile(0.75),\n",
    "    df['Weekly_Study_Hours'].quantile(0.75),\n",
    "    np.where(\n",
    "        new_df_cap['Weekly_Study_Hours'] < df['Weekly_Study_Hours'].quantile(0.25),\n",
    "        df['Weekly_Study_Hours'].quantile(0.25),\n",
    "        new_df_cap['Weekly_Study_Hours']\n",
    "    )    \n",
    ")\n",
    "\n",
    "new_df_cap.shape"
   ]
  },
  {
   "cell_type": "code",
   "execution_count": 51,
   "id": "9a2efa02-890a-4b0a-904c-edad8d5b4287",
   "metadata": {},
   "outputs": [
    {
     "data": {
      "text/plain": [
       "Text(0.5, 1.0, 'Boxplot of Weekly_Study_Hours Hours without Outliers')"
      ]
     },
     "execution_count": 51,
     "metadata": {},
     "output_type": "execute_result"
    },
    {
     "data": {
      "image/png": "[encoded data removed]",
      "text/plain": [
       "<Figure size 800x600 with 1 Axes>"
      ]
     },
     "metadata": {},
     "output_type": "display_data"
    },
    {
     "data": {
      "image/png": "[encoded data removed]",
      "text/plain": [
       "<Figure size 800x600 with 1 Axes>"
      ]
     },
     "metadata": {},
     "output_type": "display_data"
    }
   ],
   "source": [
    "#Comparing both plots with outliers and without outlier\n",
    "\n",
    "plt.figure(figsize=(8,6))\n",
    "sns.boxplot(x=df['Weekly_Study_Hours'])\n",
    "plt.title('Boxplot of Weekly_Study_Hours Hours with Outliers')\n",
    "\n",
    "plt.figure(figsize=(8,6))\n",
    "sns.boxplot(x=new_df_cap['Weekly_Study_Hours'])\n",
    "plt.title('Boxplot of Weekly_Study_Hours Hours without Outliers')"
   ]
  },
  {
   "cell_type": "code",
   "execution_count": 52,
   "id": "4775867e-9aa9-4323-9c3c-33c2edfef9e9",
   "metadata": {},
   "outputs": [],
   "source": [
    "# TRIMMING: deleting rows which contains outliers\n",
    "\n",
    "new_df = df[df['Student_Age'] < df['Student_Age'].quantile(0.75)]"
   ]
  },
  {
   "cell_type": "code",
   "execution_count": 53,
   "id": "f3e20b94-aa1c-4589-9393-2bc74821457e",
   "metadata": {},
   "outputs": [
    {
     "data": {
      "text/plain": [
       "(104, 16)"
      ]
     },
     "execution_count": 53,
     "metadata": {},
     "output_type": "execute_result"
    }
   ],
   "source": [
    "new_df.shape"
   ]
  },
  {
   "cell_type": "code",
   "execution_count": 54,
   "id": "9b829a8e-e7f4-4e2a-8dd9-54c852565152",
   "metadata": {},
   "outputs": [
    {
     "data": {
      "text/plain": [
       "Text(0.5, 1.0, 'Boxplot of Student_Age without Outliers')"
      ]
     },
     "execution_count": 54,
     "metadata": {},
     "output_type": "execute_result"
    },
    {
     "data": {
      "image/png": "[encoded data removed]",
      "text/plain": [
       "<Figure size 800x600 with 1 Axes>"
      ]
     },
     "metadata": {},
     "output_type": "display_data"
    },
    {
     "data": {
      "image/png": "[encoded data removed]",
      "text/plain": [
       "<Figure size 800x600 with 1 Axes>"
      ]
     },
     "metadata": {},
     "output_type": "display_data"
    }
   ],
   "source": [
    "# Comparing dataframes\n",
    "\n",
    "plt.figure(figsize=(8, 6))\n",
    "sns.boxplot(x=df['Student_Age'])\n",
    "plt.title('Boxplot of Student_Age with Outliers')\n",
    "\n",
    "\n",
    "plt.figure(figsize=(8, 6))\n",
    "sns.boxplot(x=new_df['Student_Age'])\n",
    "plt.title('Boxplot of Student_Age without Outliers')\n"
   ]
  },
  {
   "cell_type": "code",
   "execution_count": 55,
   "id": "b3f13541-222c-495d-9e97-4b06d4a1809e",
   "metadata": {},
   "outputs": [
    {
     "name": "stdout",
     "output_type": "stream",
     "text": [
      "Skewness of Numeric Columns:\n",
      "Unnamed: 0            0.000000\n",
      "Id                    0.000000\n",
      "Student_Age           1.176238\n",
      "Weekly_Study_Hours    1.657166\n",
      "dtype: float64\n",
      "\n",
      "\n"
     ]
    }
   ],
   "source": [
    "# NON-NORMAL DISTRIBUTION TO NORMAL DISTRIBUTION\n",
    "# if data is not normally distributed it has skewness either positive or negative\n",
    "# two ways to handle - 1. log trasformation\n",
    "#                      2. square-root transformation\n",
    "\n",
    "# Display skewness for each column\n",
    "skewness = num_df.skew()\n",
    "print(\"Skewness of Numeric Columns:\")\n",
    "print(skewness)\n",
    "print(\"\\n\")"
   ]
  },
  {
   "cell_type": "code",
   "execution_count": 56,
   "id": "48ae7062-fb2e-4d15-9dac-c51f019756af",
   "metadata": {},
   "outputs": [
    {
     "name": "stdout",
     "output_type": "stream",
     "text": [
      "Skewness of Numeric Columns after Log Transformation:\n",
      "Student_Age           0.988321\n",
      "Weekly_Study_Hours    0.387287\n",
      "dtype: float64\n"
     ]
    }
   ],
   "source": [
    "# Apply log transformation to the positively skewed columns\n",
    "num_df['Student_Age'] = np.log1p(num_df['Student_Age'])\n",
    "num_df['Weekly_Study_Hours'] = np.log1p(num_df['Weekly_Study_Hours'])\n",
    "\n",
    "# Display skewness for each column after transformation\n",
    "skewness_after = num_df[['Student_Age', 'Weekly_Study_Hours']].skew()\n",
    "print(\"Skewness of Numeric Columns after Log Transformation:\")\n",
    "print(skewness_after)"
   ]
  },
  {
   "cell_type": "code",
   "execution_count": 58,
   "id": "d549b5c4-37f1-4e7f-bd86-04ea14b3a16b",
   "metadata": {},
   "outputs": [
    {
     "name": "stdout",
     "output_type": "stream",
     "text": [
      "Skewness after square root transformation: 0.9463499753803329\n"
     ]
    }
   ],
   "source": [
    "num_df['Student_Age'] = np.sqrt(num_df['Student_Age'])\n",
    "skewness = num_df['Student_Age'].skew()\n",
    "print(\"Skewness after square root transformation:\", skewness)"
   ]
  },
  {
   "cell_type": "code",
   "execution_count": null,
   "id": "5f871bd6-efd8-4f55-b383-2557325511cb",
   "metadata": {},
   "outputs": [],
   "source": []
  }
 ],
 "metadata": {
  "kernelspec": {
   "display_name": "Python 3 (ipykernel)",
   "language": "python",
   "name": "python3"
  },
  "language_info": {
   "codemirror_mode": {
    "name": "ipython",
    "version": 3
   },
   "file_extension": ".py",
   "mimetype": "text/x-python",
   "name": "python",
   "nbconvert_exporter": "python",
   "pygments_lexer": "ipython3",
   "version": "3.12.2"
  }
 },
 "nbformat": 4,
 "nbformat_minor": 5
}
